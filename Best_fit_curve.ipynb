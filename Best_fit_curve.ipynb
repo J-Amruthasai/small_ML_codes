{
  "nbformat": 4,
  "nbformat_minor": 0,
  "metadata": {
    "colab": {
      "provenance": []
    },
    "kernelspec": {
      "name": "python3",
      "display_name": "Python 3"
    },
    "language_info": {
      "name": "python"
    }
  },
  "cells": [
    {
      "cell_type": "code",
      "execution_count": null,
      "metadata": {
        "id": "gP3wTLN1HxYx"
      },
      "outputs": [],
      "source": [
        "# checking best fit curve is linear, sin function, quadratic\n",
        "\n",
        "import numpy as np\n",
        "from scipy.optimize import minimize\n",
        "import math\n",
        "\n",
        "X = np.random.uniform(0,5,3)\n",
        "X1 = np.random.uniform(0,5,2)\n",
        "#print (X)\n",
        "e = np.random.normal(0, 1)\n",
        "b = np.random.randint(2,100)\n",
        "a = np.random.randint(b,100)\n",
        "c =  np.random.randint(0,10)\n",
        "F_x = a*(X**2) + b*X + c\n",
        "\n",
        "F1_x = np.sin(math.pi*X1)\n",
        "y = F_x + e\n",
        "y1 = F1_x + e\n",
        "\n",
        "# print(F_x)\n",
        "# print(y)"
      ]
    },
    {
      "cell_type": "code",
      "source": [
        "def squ_dif(y, g_x):\n",
        "  return np.sum(1/3*(g_x-y)**2)\n",
        "\n",
        "i = 0.0\n",
        "result = minimize(squ_dif, i, args=(y,))\n",
        "g_x = result.x[0]\n",
        "#print(g_x)\n",
        "H0 = g_x\n",
        "print(H0)"
      ],
      "metadata": {
        "id": "ydHq_2P4Mlh9",
        "colab": {
          "base_uri": "https://localhost:8080/"
        },
        "outputId": "701ee9c1-42d9-4d4c-bc52-bd98df73d3ea"
      },
      "execution_count": null,
      "outputs": [
        {
          "output_type": "stream",
          "name": "stdout",
          "text": [
            "145.9522173889918\n"
          ]
        }
      ]
    },
    {
      "cell_type": "code",
      "source": [
        "\n",
        "def squ_diff(params, y,X):\n",
        "  [c,d] = params\n",
        "  g_x = c*X +d\n",
        "  return np.sum(1/3*(g_x-y)**2)\n",
        "\n",
        "i = [1.0,0.0]\n",
        "result = minimize(squ_diff,i,args=(y,X))\n",
        "parms_o = result.x\n",
        "c,d = parms_o\n",
        "# print(c, \"X+\",d)\n",
        "H1 = c*X+d"
      ],
      "metadata": {
        "id": "ZjB94cvcZNkY"
      },
      "execution_count": null,
      "outputs": []
    },
    {
      "cell_type": "code",
      "source": [
        "def squ_diff(params, y,X):\n",
        "  [e,f,g] = params\n",
        "  g_x = e*X**2 +f*X+g\n",
        "  return np.sum(1/3*(g_x-y)**2)\n",
        "\n",
        "i = [1.0,0.0,0.0]\n",
        "result = minimize(squ_diff,i,args=(y,X))\n",
        "parms_o = result.x\n",
        "e,f,g = parms_o\n",
        "# print(e, \"X^2+\",f, \"X+\",g)\n",
        "H2 = e*X**2+f*X+g"
      ],
      "metadata": {
        "id": "9EOrQYVFfQj_"
      },
      "execution_count": null,
      "outputs": []
    },
    {
      "cell_type": "code",
      "source": [
        "\n",
        "avg_y = np.mean(H0)\n",
        "bias_20 = np.mean((avg_y - y)**2)\n",
        "var_h0 = np.mean(np.var(H0))\n",
        "\n",
        "sigma_2 = np.var(y)\n",
        "print(avg_y)\n",
        "print(bias_20)\n",
        "\n",
        "print(var_h0)\n",
        "E0 = bias_20 +var_h0 +sigma_2\n",
        "E0"
      ],
      "metadata": {
        "colab": {
          "base_uri": "https://localhost:8080/"
        },
        "id": "LgQM9EIOf7bL",
        "outputId": "946da9e7-6ddb-4093-a398-b39384409c0b"
      },
      "execution_count": null,
      "outputs": [
        {
          "output_type": "stream",
          "name": "stdout",
          "text": [
            "145.9522173889918\n",
            "17544.893511724178\n",
            "0.0\n"
          ]
        },
        {
          "output_type": "execute_result",
          "data": {
            "text/plain": [
              "35089.787023447905"
            ]
          },
          "metadata": {},
          "execution_count": 174
        }
      ]
    },
    {
      "cell_type": "code",
      "source": [
        "avg_y = np.mean(H1)\n",
        "bias_21 = np.mean((avg_y - y)**2)\n",
        "var_h1 = np.mean(np.var(H1))\n",
        "\n",
        "sigma_2 = np.var(y)\n",
        "print(avg_y)\n",
        "print(bias_21)\n",
        "\n",
        "print(var_h1)\n",
        "E1 = bias_21 +var_h1 +sigma_2\n",
        "E1"
      ],
      "metadata": {
        "colab": {
          "base_uri": "https://localhost:8080/"
        },
        "id": "ZUTvlxgakvgd",
        "outputId": "55dfa51c-515f-4015-be1d-24017fd35c15"
      },
      "execution_count": null,
      "outputs": [
        {
          "output_type": "stream",
          "name": "stdout",
          "text": [
            "145.95219526558716\n",
            "17544.893511723723\n",
            "17333.10073766932\n"
          ]
        },
        {
          "output_type": "execute_result",
          "data": {
            "text/plain": [
              "52422.88776111677"
            ]
          },
          "metadata": {},
          "execution_count": 175
        }
      ]
    },
    {
      "cell_type": "code",
      "source": [
        "\n",
        "avg_y = np.mean(H2)\n",
        "bias_22 = np.mean((avg_y - y)**2)\n",
        "var_h2 = np.mean(np.var(H2))\n",
        "\n",
        "sigma_2 = np.var(y)\n",
        "print(avg_y)\n",
        "print(bias_22)\n",
        "\n",
        "print(var_h2)\n",
        "E2 = bias_22 +var_h2 +sigma_2\n",
        "E2"
      ],
      "metadata": {
        "colab": {
          "base_uri": "https://localhost:8080/"
        },
        "id": "8JzptXbBk_zn",
        "outputId": "e79fb239-7330-4d15-eda3-6538af0325be"
      },
      "execution_count": null,
      "outputs": [
        {
          "output_type": "stream",
          "name": "stdout",
          "text": [
            "145.9521980085186\n",
            "17544.89351172373\n",
            "17544.892990724242\n"
          ]
        },
        {
          "output_type": "execute_result",
          "data": {
            "text/plain": [
              "52634.680014171696"
            ]
          },
          "metadata": {},
          "execution_count": 176
        }
      ]
    },
    {
      "cell_type": "code",
      "source": [
        "min =E0\n",
        "print(\"The best fit is\")\n",
        "if E1<min:\n",
        "  min = E1\n",
        "  print(\"E1\")\n",
        "else:\n",
        "  if E2<min:\n",
        "    min = E2\n",
        "    print('E2')\n",
        "  else:\n",
        "    print(\"E0\")"
      ],
      "metadata": {
        "colab": {
          "base_uri": "https://localhost:8080/"
        },
        "id": "gpCxc_U1lPdn",
        "outputId": "c86d4696-885f-4d2b-a93c-cb421f5b3e1a"
      },
      "execution_count": null,
      "outputs": [
        {
          "output_type": "stream",
          "name": "stdout",
          "text": [
            "The best fit is\n",
            "E0\n"
          ]
        }
      ]
    },
    {
      "cell_type": "code",
      "source": [
        "#2nd\n",
        "\n",
        "def squ_diff(params, y1,X):\n",
        "  [c1,d1] = params\n",
        "  g_x = c*X1 +d\n",
        "  return np.sum(1/3*(g_x-y1)**2)\n",
        "\n",
        "i = [1.0,0.0]\n",
        "result = minimize(squ_diff,i,args=(y1,X))\n",
        "parms_o = result.x\n",
        "c1,d1 = parms_o\n",
        "# print(c, \"X+\",d)\n",
        "H12 = c1*X+d1"
      ],
      "metadata": {
        "id": "ACpd2DEfnKQJ"
      },
      "execution_count": null,
      "outputs": []
    },
    {
      "cell_type": "code",
      "source": [
        "def squ_diff(params, y1,X):\n",
        "  [e1,f1,g1] = params\n",
        "  g_x = e1*X1**2 +f1*X1 +g1\n",
        "  return np.sum(1/3*(g_x-y1)**2)\n",
        "\n",
        "i = [1.0,0.0,0.0]\n",
        "result = minimize(squ_diff,i,args=(y1,X))\n",
        "parms_o = result.x\n",
        "e1,f1,g1 = parms_o\n",
        "# print(e, \"X^2+\",f, \"X+\",g)\n",
        "H22 = e1*X**2+f1*X+g1"
      ],
      "metadata": {
        "id": "TQ3N4-QroziW"
      },
      "execution_count": null,
      "outputs": []
    },
    {
      "cell_type": "code",
      "source": [
        "avg_y = np.mean(H12)\n",
        "bias_21 = np.mean((avg_y - y1)**2)\n",
        "var_h11 = np.mean(np.var(H12))\n",
        "\n",
        "sigma_2 = np.var(y1)\n",
        "print(avg_y)\n",
        "print(bias_21)\n",
        "\n",
        "print(var_h11)\n",
        "E12 = bias_21 +var_h11 +sigma_2\n",
        "E12"
      ],
      "metadata": {
        "colab": {
          "base_uri": "https://localhost:8080/"
        },
        "id": "JD6WusO8pnPV",
        "outputId": "b434d0b4-1e7e-4ac3-aaac-386e08c11f0f"
      },
      "execution_count": null,
      "outputs": [
        {
          "output_type": "stream",
          "name": "stdout",
          "text": [
            "1.1654793095387894\n",
            "5.714717090080639\n",
            "0.5464522767554145\n"
          ]
        },
        {
          "output_type": "execute_result",
          "data": {
            "text/plain": [
              "6.326444180928319"
            ]
          },
          "metadata": {},
          "execution_count": 180
        }
      ]
    },
    {
      "cell_type": "code",
      "source": [
        "avg_y = np.mean(H22)\n",
        "bias_22 = np.mean((avg_y - y1)**2)\n",
        "var_h21 = np.mean(np.var(H22))\n",
        "\n",
        "sigma_2 = np.var(y1)\n",
        "print(avg_y)\n",
        "print(bias_22)\n",
        "\n",
        "print(var_h21)\n",
        "E22 = bias_22 +var_h21 +sigma_2\n",
        "E22"
      ],
      "metadata": {
        "colab": {
          "base_uri": "https://localhost:8080/"
        },
        "id": "BxxipKkApsnY",
        "outputId": "dd4bad89-8835-4948-b91d-26ff9043a343"
      },
      "execution_count": null,
      "outputs": [
        {
          "output_type": "stream",
          "name": "stdout",
          "text": [
            "4.115483745480765\n",
            "0.39377446668101856\n",
            "0.10326333093861469\n"
          ]
        },
        {
          "output_type": "execute_result",
          "data": {
            "text/plain": [
              "0.5623126117118982"
            ]
          },
          "metadata": {},
          "execution_count": 181
        }
      ]
    },
    {
      "cell_type": "code",
      "source": [
        "min =E12\n",
        "print(\"The best fit is\")\n",
        "if E22<min:\n",
        "  min = E22\n",
        "  print(\"E22\")\n",
        "else:\n",
        "  print(\"E12\")"
      ],
      "metadata": {
        "colab": {
          "base_uri": "https://localhost:8080/"
        },
        "id": "d3sYZMWqqF7q",
        "outputId": "3098b817-f3a3-4949-caf9-9df9fecbe925"
      },
      "execution_count": null,
      "outputs": [
        {
          "output_type": "stream",
          "name": "stdout",
          "text": [
            "The best fit is\n",
            "E22\n"
          ]
        }
      ]
    }
  ]
}