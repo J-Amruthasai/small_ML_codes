{
  "nbformat": 4,
  "nbformat_minor": 0,
  "metadata": {
    "colab": {
      "provenance": []
    },
    "kernelspec": {
      "name": "python3",
      "display_name": "Python 3"
    },
    "language_info": {
      "name": "python"
    }
  },
  "cells": [
    {
      "cell_type": "code",
      "execution_count": null,
      "metadata": {
        "id": "tu1HHid6TNJV"
      },
      "outputs": [],
      "source": [
        "import numpy as np\n",
        "from sklearn.datasets import load_digits\n",
        "import matplotlib.pyplot as plt"
      ]
    },
    {
      "cell_type": "code",
      "source": [
        "digits = load_digits()\n",
        "data = digits.images\n",
        "y = digits.target\n",
        "x = digits.data\n",
        "\n",
        "i = np.where((y==2) |(y==4) | (y== 3))\n",
        "y_new = np.matrix(y[i])\n",
        "\n",
        "x_new = x[i]\n",
        "binary_data = (x_new>7).astype(int)\n",
        "\n",
        "\n",
        "print(y_new.shape)\n",
        "print(x_new.shape)\n",
        "print(y_new)\n",
        "samples,features = binary_data.shape"
      ],
      "metadata": {
        "colab": {
          "base_uri": "https://localhost:8080/"
        },
        "id": "LtsHugSzWMBV",
        "outputId": "9eb024bf-8c1e-4997-e960-fa7e8f552ee6"
      },
      "execution_count": null,
      "outputs": [
        {
          "output_type": "stream",
          "name": "stdout",
          "text": [
            "(1, 541)\n",
            "(541, 64)\n",
            "[[2 3 4 2 3 4 2 3 4 4 3 2 2 2 2 3 3 3 3 4 4 2 2 3 2 4 3 3 4 3 4 3 4 4 2 2\n",
            "  2 4 4 2 3 4 2 3 4 2 3 4 4 3 2 2 2 2 3 3 3 3 4 4 2 2 3 2 3 3 4 3 4 3 4 4\n",
            "  2 2 2 4 4 2 3 4 2 3 4 2 3 4 4 3 2 2 2 2 3 3 3 3 4 4 2 2 3 2 4 3 3 4 3 4\n",
            "  3 4 4 2 2 2 4 4 3 2 3 4 2 3 4 2 3 4 4 3 2 2 2 2 3 3 3 3 4 4 2 2 3 2 4 3\n",
            "  3 4 3 4 3 4 4 2 2 2 4 4 2 3 4 2 3 4 2 3 4 4 3 2 2 2 2 3 3 3 3 4 4 2 2 3\n",
            "  2 4 3 3 4 3 4 3 4 4 2 2 2 4 4 2 3 4 2 3 4 2 3 4 4 3 2 2 2 2 3 3 3 3 4 4\n",
            "  2 2 3 2 4 3 3 4 3 4 3 4 4 2 2 2 4 4 2 3 4 2 3 4 2 3 4 4 3 2 2 2 2 3 3 3\n",
            "  3 4 4 2 2 3 2 4 3 3 4 3 4 3 4 4 2 2 2 4 4 2 3 4 2 3 4 2 3 4 4 3 2 2 2 3\n",
            "  3 3 3 4 4 2 2 3 2 4 3 3 4 3 4 3 4 4 2 2 2 4 4 2 3 4 2 3 4 2 3 4 4 3 2 2\n",
            "  3 3 3 3 4 4 2 2 3 2 4 3 3 4 3 4 3 4 4 2 2 2 4 4 2 3 4 2 3 4 2 3 4 4 3 2\n",
            "  2 2 2 3 3 3 3 4 4 2 2 3 2 4 3 3 4 3 4 3 4 4 2 2 2 4 4 2 3 4 2 3 4 2 3 4\n",
            "  4 3 2 2 2 2 3 3 3 3 4 4 2 2 3 2 4 3 3 4 3 4 3 4 4 2 2 2 4 4 2 3 4 2 3 4\n",
            "  2 3 4 4 3 2 2 2 2 3 3 3 3 4 4 2 2 3 2 4 3 3 4 3 4 3 4 4 2 2 2 4 4 2 3 4\n",
            "  2 3 4 2 3 4 4 3 2 2 2 2 3 3 3 3 4 4 2 3 2 4 3 3 4 3 4 3 4 4 2 2 4 4 2 3\n",
            "  4 2 3 4 2 3 4 4 3 2 2 2 2 3 3 3 3 4 4 2 2 3 2 4 3 3 4 3 4 3 4 4 2 2 2 4\n",
            "  4]]\n"
          ]
        }
      ]
    },
    {
      "cell_type": "code",
      "source": [
        "\n",
        "# Number of clusters\n",
        "L = 3\n",
        "\n",
        "samples, features = binary_data.shape\n",
        "random_state = np.random.RandomState(0)\n",
        "\n",
        "pi = random_state.rand(L)\n",
        "pi /= np.sum(pi)\n",
        "\n",
        "meu = random_state.uniform(0.25, 0.75, size=(L, features))\n",
        "meu /= np.sum(meu, axis=1)[:, np.newaxis]\n",
        "\n",
        "\n",
        "print(pi)\n",
        "print(meu.shape)\n"
      ],
      "metadata": {
        "colab": {
          "base_uri": "https://localhost:8080/"
        },
        "id": "WfkYyI-aF0NN",
        "outputId": "41745de3-fbdb-4cad-caa2-a9b91b2644ff"
      },
      "execution_count": null,
      "outputs": [
        {
          "output_type": "stream",
          "name": "stdout",
          "text": [
            "[0.29399155 0.38311672 0.32289173]\n",
            "(3, 64)\n"
          ]
        }
      ]
    },
    {
      "cell_type": "code",
      "source": [
        "\n",
        "\n",
        "# EM algorithm\n",
        "for _ in range(10):\n",
        "\n",
        "    # Expectation step\n",
        "    gamma = np.zeros((samples, L))\n",
        "    for k in range(L):\n",
        "        gamma[:, k] = pi[k] * np.prod(meu[k] ** binary_data * (1 - meu[k]) ** (1 - binary_data), axis=1)\n",
        "\n",
        "    gamma /= gamma.sum(axis=1)[:, np.newaxis]\n",
        "\n",
        "    # Maximization step\n",
        "    for k in range(L):\n",
        "        pi[k] = np.mean(gamma[:, k])\n",
        "        meu[k] = np.dot(gamma[:, k], binary_data) / np.sum(gamma[:, k])\n",
        "\n",
        "print(gamma)\n"
      ],
      "metadata": {
        "colab": {
          "base_uri": "https://localhost:8080/"
        },
        "id": "dK-MwLm2F-Oo",
        "outputId": "0d434444-c2a8-45cc-8c78-1af2fde92aa8"
      },
      "execution_count": null,
      "outputs": [
        {
          "output_type": "stream",
          "name": "stdout",
          "text": [
            "[[9.14814651e-001 8.39300523e-002 1.25529705e-003]\n",
            " [7.68432358e-007 1.74941258e-119 9.99999232e-001]\n",
            " [1.92591353e-031 1.00000000e+000 2.39548405e-012]\n",
            " ...\n",
            " [9.99965185e-001 8.57010113e-124 3.48153602e-005]\n",
            " [7.25360395e-078 1.00000000e+000 1.43476675e-070]\n",
            " [4.95958810e-079 1.00000000e+000 5.67368244e-073]]\n"
          ]
        }
      ]
    },
    {
      "cell_type": "code",
      "source": [
        "# print(pi)\n",
        "print(np.sum(pi))"
      ],
      "metadata": {
        "colab": {
          "base_uri": "https://localhost:8080/"
        },
        "id": "07X3pqV-Iax9",
        "outputId": "5d235786-6c8f-4d65-fb6a-a93834de038f"
      },
      "execution_count": null,
      "outputs": [
        {
          "output_type": "stream",
          "name": "stdout",
          "text": [
            "1.0\n"
          ]
        }
      ]
    },
    {
      "cell_type": "code",
      "source": [
        "print(meu.shape)\n",
        "meu"
      ],
      "metadata": {
        "colab": {
          "base_uri": "https://localhost:8080/"
        },
        "id": "FxudrpT1Ia2I",
        "outputId": "c30dc82f-6474-4cac-ec77-3bec9d0c8265"
      },
      "execution_count": null,
      "outputs": [
        {
          "output_type": "stream",
          "name": "stdout",
          "text": [
            "(3, 64)\n"
          ]
        },
        {
          "output_type": "execute_result",
          "data": {
            "text/plain": [
              "array([[0.00000000e+000, 0.00000000e+000, 8.00497540e-001,\n",
              "        9.66547145e-001, 5.45526776e-001, 1.00595746e-001,\n",
              "        7.69814040e-003, 6.52533655e-128, 0.00000000e+000,\n",
              "        4.07803960e-001, 9.56696635e-001, 8.96662527e-001,\n",
              "        8.56456185e-001, 2.28341683e-001, 1.21493592e-002,\n",
              "        8.77228744e-190, 0.00000000e+000, 3.31220142e-001,\n",
              "        5.23622477e-001, 2.71848448e-001, 9.20623561e-001,\n",
              "        2.46627201e-001, 1.78459731e-004, 0.00000000e+000,\n",
              "        0.00000000e+000, 9.73257113e-012, 5.23630823e-002,\n",
              "        4.13557077e-001, 9.26474406e-001, 8.06320195e-002,\n",
              "        3.27943849e-026, 0.00000000e+000, 0.00000000e+000,\n",
              "        2.02696536e-051, 7.85523686e-002, 8.10239937e-001,\n",
              "        6.69258655e-001, 5.69740534e-003, 1.00547415e-025,\n",
              "        0.00000000e+000, 0.00000000e+000, 1.46946822e-002,\n",
              "        3.83506487e-001, 9.27586718e-001, 3.36056874e-001,\n",
              "        6.17048505e-002, 3.08120505e-002, 0.00000000e+000,\n",
              "        2.22226579e-230, 5.32677735e-002, 9.26914087e-001,\n",
              "        9.39394180e-001, 8.43508624e-001, 7.61690008e-001,\n",
              "        3.96633601e-001, 2.75305845e-042, 0.00000000e+000,\n",
              "        7.60419039e-003, 8.17330051e-001, 9.59329758e-001,\n",
              "        9.36205696e-001, 7.61740794e-001, 4.01243825e-001,\n",
              "        6.12663770e-014],\n",
              "       [0.00000000e+000, 0.00000000e+000, 7.80384279e-060,\n",
              "        4.45546249e-001, 8.45992348e-001, 9.79699066e-002,\n",
              "        1.10003264e-002, 1.10003262e-002, 0.00000000e+000,\n",
              "        1.16198936e-085, 1.54037529e-001, 9.45411325e-001,\n",
              "        5.70975531e-001, 8.69723693e-002, 8.21205406e-002,\n",
              "        1.65004893e-002, 0.00000000e+000, 1.65007760e-002,\n",
              "        7.31867449e-001, 8.29431197e-001, 2.69555624e-001,\n",
              "        3.34479708e-001, 2.19599815e-001, 5.50016311e-003,\n",
              "        0.00000000e+000, 1.70505343e-001, 9.46026917e-001,\n",
              "        3.63038648e-001, 4.61999597e-001, 7.46933999e-001,\n",
              "        4.62009445e-001, 0.00000000e+000, 0.00000000e+000,\n",
              "        6.32518758e-001, 9.74010802e-001, 6.87629110e-001,\n",
              "        8.95472097e-001, 9.29108346e-001, 3.46510276e-001,\n",
              "        0.00000000e+000, 0.00000000e+000, 4.34588245e-001,\n",
              "        7.57984662e-001, 8.67986901e-001, 9.72007224e-001,\n",
              "        7.48022465e-001, 1.65004175e-002, 0.00000000e+000,\n",
              "        5.50016311e-003, 3.83776424e-002, 1.85943318e-001,\n",
              "        5.37952312e-001, 9.50499852e-001, 2.73939838e-001,\n",
              "        1.39266677e-040, 3.31958799e-180, 0.00000000e+000,\n",
              "        0.00000000e+000, 3.84244011e-033, 5.06048043e-001,\n",
              "        8.51488236e-001, 9.80644136e-002, 5.54899024e-003,\n",
              "        1.11426359e-063],\n",
              "       [0.00000000e+000, 0.00000000e+000, 5.52217995e-001,\n",
              "        9.74552305e-001, 9.55054247e-001, 4.34638503e-001,\n",
              "        1.75141929e-002, 4.53644298e-143, 0.00000000e+000,\n",
              "        1.77314725e-001, 9.01183874e-001, 7.03595797e-001,\n",
              "        8.15000063e-001, 7.64925858e-001, 9.43062357e-002,\n",
              "        1.10462072e-178, 0.00000000e+000, 1.42490586e-001,\n",
              "        3.29748576e-001, 1.20559056e-001, 7.90244222e-001,\n",
              "        6.84090471e-001, 1.77901555e-002, 0.00000000e+000,\n",
              "        0.00000000e+000, 3.51366865e-002, 7.51671936e-002,\n",
              "        4.77025405e-001, 9.01109098e-001, 4.06684393e-001,\n",
              "        4.39551365e-003, 0.00000000e+000, 0.00000000e+000,\n",
              "        3.87011420e-062, 4.64783936e-002, 2.65408730e-001,\n",
              "        8.66036671e-001, 6.99782302e-001, 7.46659453e-002,\n",
              "        0.00000000e+000, 0.00000000e+000, 9.02075924e-003,\n",
              "        6.04140675e-002, 1.41449160e-001, 3.86870668e-001,\n",
              "        7.28587499e-001, 3.46748782e-001, 0.00000000e+000,\n",
              "        2.29226514e-175, 1.76448742e-002, 4.22951641e-001,\n",
              "        4.94802461e-001, 6.29214993e-001, 8.69757653e-001,\n",
              "        3.85803892e-001, 4.39211443e-003, 0.00000000e+000,\n",
              "        4.27704562e-045, 5.82024713e-001, 9.87505234e-001,\n",
              "        9.53402740e-001, 7.02724324e-001, 1.98633269e-001,\n",
              "        7.90580597e-002]])"
            ]
          },
          "metadata": {},
          "execution_count": 7
        }
      ]
    },
    {
      "cell_type": "code",
      "source": [
        "import matplotlib.pyplot as plt\n",
        "\n",
        "# Plotting the centroids\n",
        "plt.figure(figsize=(7, 3))\n",
        "for i in range(L):\n",
        "    plt.subplot(1, L, i + 1)\n",
        "    plt.imshow(meu[i].reshape(8,8), cmap='binary')\n",
        "    plt.title(f'Cluster {i}')\n",
        "    plt.axis('off')\n",
        "\n",
        "plt.suptitle('Mixture of Bernoulli Distributions')\n",
        "plt.show()"
      ],
      "metadata": {
        "colab": {
          "base_uri": "https://localhost:8080/",
          "height": 262
        },
        "id": "qJuN_FxnGYxw",
        "outputId": "f101de43-ff90-4f82-c97d-b589743de8bb"
      },
      "execution_count": null,
      "outputs": [
        {
          "output_type": "display_data",
          "data": {
            "text/plain": [
              "<Figure size 700x300 with 3 Axes>"
            ],
            "image/png": "[encoded data removed]"
          },
          "metadata": {}
        }
      ]
    }
  ]
}