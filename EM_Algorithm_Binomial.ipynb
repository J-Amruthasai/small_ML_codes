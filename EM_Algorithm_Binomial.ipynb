{
  "nbformat": 4,
  "nbformat_minor": 0,
  "metadata": {
    "colab": {
      "provenance": []
    },
    "kernelspec": {
      "name": "python3",
      "display_name": "Python 3"
    },
    "language_info": {
      "name": "python"
    }
  },
  "cells": [
    {
      "cell_type": "code",
      "execution_count": null,
      "metadata": {
        "id": "P7BOtr8C2-Vy"
      },
      "outputs": [],
      "source": [
        "import numpy as np\n",
        "import pandas as pd\n",
        "import matplotlib.pyplot as plt\n",
        "import random\n",
        "import math"
      ]
    },
    {
      "cell_type": "code",
      "source": [
        "def binomialPoints(n, Pis, probs, points=1000):\n",
        "    k = len(probs)\n",
        "    binomial_points = []\n",
        "    for i in range(len(probs)):\n",
        "        p = int(Pis[i] * points)\n",
        "        bin_points = np.random.binomial(n, probs[i], p)\n",
        "        for j in bin_points:\n",
        "            binomial_points.append(j)\n",
        "    binomial_points = np.random.permutation(binomial_points)\n",
        "    final_binomial_points = np.array(binomial_points)\n",
        "    return final_binomial_points, k, points"
      ],
      "metadata": {
        "id": "SF9xIVZb4ZBR"
      },
      "execution_count": null,
      "outputs": []
    },
    {
      "cell_type": "code",
      "source": [
        "n = 100\n",
        "probs = [0.1, 0.9, 0.3, 0.7, 0.5]\n",
        "Pis = [0.2, 0.3, 0.2, 0.2, 0.1]\n",
        "points = 10000"
      ],
      "metadata": {
        "id": "8PtAQm9E-6gW"
      },
      "execution_count": null,
      "outputs": []
    },
    {
      "cell_type": "code",
      "source": [
        "binomial_points, k, points = binomialPoints(n, Pis, probs, points)"
      ],
      "metadata": {
        "id": "-3HlSexd4reW"
      },
      "execution_count": null,
      "outputs": []
    },
    {
      "cell_type": "code",
      "source": [
        "binomial_points"
      ],
      "metadata": {
        "colab": {
          "base_uri": "https://localhost:8080/"
        },
        "id": "-_zz9YoS72dX",
        "outputId": "16e9fb7c-f749-4e5e-ce18-9165370c448e"
      },
      "execution_count": null,
      "outputs": [
        {
          "output_type": "execute_result",
          "data": {
            "text/plain": [
              "array([51, 90,  5, ..., 86, 69, 90])"
            ]
          },
          "metadata": {},
          "execution_count": 20
        }
      ]
    },
    {
      "cell_type": "code",
      "source": [
        "import numpy as np\n",
        "\n",
        "def EMAlgo(binomial_points, k, points, n, max_iters=10000, tolerance=1e-12):\n",
        "    # Initialize parameters\n",
        "    Pis = np.ones(k) / k\n",
        "    Probs = np.random.rand(k)\n",
        "    gamma = np.zeros((len(binomial_points), k))\n",
        "\n",
        "    for _ in range(max_iters):\n",
        "        Pis_old = Pis.copy()\n",
        "        Probs_old = Probs.copy()a\n",
        "\n",
        "        # E-step\n",
        "        for i in range(len(binomial_points)):\n",
        "            likelihoods = [Pis[j] * (Probs[j] ** binomial_points[i]) * ((1 - Probs[j]) ** (n - binomial_points[i])) * np.math.comb(n, binomial_points[i]) for j in range(k)]\n",
        "            gamma[i] = likelihoods / np.sum(likelihoods)\n",
        "\n",
        "        # M-step\n",
        "        # Update Pis\n",
        "        Pis = np.mean(gamma, axis=0)\n",
        "\n",
        "        # Update Probs\n",
        "        for j in range(k):\n",
        "            Probs[j] = np.sum(gamma[:, j] * binomial_points) / np.sum(gamma[:, j] * n)\n",
        "\n",
        "\n",
        "        # Check for convergence\n",
        "        if np.max(np.abs(Pis - Pis_old)) < tolerance and np.max(np.abs(Probs - Probs_old)) < tolerance:\n",
        "            print(_)\n",
        "            break\n",
        "\n",
        "    return Pis, Probs\n"
      ],
      "metadata": {
        "id": "9TBi_yiz-tiB"
      },
      "execution_count": null,
      "outputs": []
    },
    {
      "cell_type": "code",
      "source": [
        "Pis, Probs = EMAlgo(binomial_points, k, points, n)"
      ],
      "metadata": {
        "colab": {
          "base_uri": "https://localhost:8080/"
        },
        "id": "dPzUGBP0bMB5",
        "outputId": "3089cdc2-3c81-4067-d00b-3ac5aa3409b8"
      },
      "execution_count": null,
      "outputs": [
        {
          "output_type": "stream",
          "name": "stderr",
          "text": [
            "<ipython-input-21-1c65a1a5acce>:15: DeprecationWarning: `np.math` is a deprecated alias for the standard library `math` module (Deprecated Numpy 1.25). Replace usages of `np.math` with `math`\n",
            "  likelihoods = [Pis[j] * (Probs[j] ** binomial_points[i]) * ((1 - Probs[j]) ** (n - binomial_points[i])) * np.math.comb(n, binomial_points[i]) for j in range(k)]\n"
          ]
        },
        {
          "output_type": "stream",
          "name": "stdout",
          "text": [
            "33\n"
          ]
        }
      ]
    },
    {
      "cell_type": "code",
      "source": [
        "print(\"Updated Pis:\", Pis)\n",
        "print(\"Updated Probs:\", Probs)"
      ],
      "metadata": {
        "colab": {
          "base_uri": "https://localhost:8080/"
        },
        "id": "CqJFN-FJbSJ1",
        "outputId": "3026f457-1916-4fde-854f-92f476edab26"
      },
      "execution_count": null,
      "outputs": [
        {
          "output_type": "stream",
          "name": "stdout",
          "text": [
            "Updated Pis: [0.09953436 0.19982405 0.20132225 0.29972034 0.199599  ]\n",
            "Updated Probs: [0.50000364 0.10023341 0.29930638 0.89993871 0.69956983]\n"
          ]
        }
      ]
    }
  ]
}